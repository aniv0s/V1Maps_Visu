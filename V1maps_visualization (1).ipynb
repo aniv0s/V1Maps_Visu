{
 "cells": [
  {
   "cell_type": "code",
   "execution_count": null,
   "metadata": {
    "collapsed": true
   },
   "outputs": [],
   "source": [
    "%matplotlib inline"
   ]
  },
  {
   "cell_type": "code",
   "execution_count": null,
   "metadata": {
    "collapsed": false
   },
   "outputs": [],
   "source": [
    "import os, math\n",
    "import numpy as np\n",
    "import matplotlib.pyplot as plt\n",
    "from matplotlib.pyplot import cm"
   ]
  },
  {
   "cell_type": "code",
   "execution_count": null,
   "metadata": {
    "collapsed": true
   },
   "outputs": [],
   "source": [
    "# safe the data from the GCAL tutorial notebook:\n",
    "\n",
    "\"\"\"import numpy\n",
    "data = topo.sim.views              # The measurement data saved in the snapshot\n",
    "\n",
    "pref = data.OrientationPreference.V1\n",
    "sel =  data.OrientationSelectivity.V1\n",
    "v1resp = line.V1\n",
    "\n",
    "pref_data = pref.last.data\n",
    "sel_data = sel.last.data\n",
    "v1resp_data = v1resp.last.data\n",
    "numpy.savetxt(\"pref_data.txt\", pref_data)\n",
    "numpy.savetxt(\"sel_data.txt\", sel_data)\n",
    "numpy.savetxt(\"v1resp_data.txt\", v1resp_data)\"\"\"\n",
    "\n",
    "# and import it here\n",
    "pref_data = np.loadtxt(\"pref_data.txt\")\n",
    "sel_data = np.loadtxt(\"sel_data.txt\")\n",
    "v1resp_data = np.loadtxt(\"v1resp_data.txt\")"
   ]
  },
  {
   "cell_type": "code",
   "execution_count": null,
   "metadata": {
    "collapsed": true
   },
   "outputs": [],
   "source": [
    "from pylab import rcParams\n",
    "rcParams['figure.figsize'] = 15, 10"
   ]
  },
  {
   "cell_type": "code",
   "execution_count": null,
   "metadata": {
    "collapsed": false
   },
   "outputs": [],
   "source": [
    "# transform angles into vectors\n",
    "# X, Y -  coordinates for plotting\n",
    "# UN - the actual data\n",
    "# UV - hell knows, but used for colormap\n",
    "\n",
    "X,Y = np.meshgrid(np.arange(0, pref_data.shape[0]), np.arange(0, pref_data.shape[1]))\n",
    "\n",
    "UN = np.zeros((47, 47))\n",
    "VN = np.zeros((47, 47))\n",
    "\n",
    "for i in range(47):\n",
    "    for j in range(47):\n",
    "        UN[i,j] = np.cos(pref_data[i, j])\n",
    "        VN[i,j] = np.sin(pref_data[i, j])\n",
    "\n",
    "# because of the weird coordinates (from 0 to 47 for X-axis and from 47 to 0 for Y-axis), need to flip the data\n",
    "Y = -Y\n",
    "UN = -UN\n",
    "VN = -VN\n",
    "\n"
   ]
  },
  {
   "cell_type": "code",
   "execution_count": null,
   "metadata": {
    "collapsed": false
   },
   "outputs": [],
   "source": [
    "# plot the initial map and vector field\n",
    "# somehow the vector field gets shifted - fix it\n",
    "\n",
    "plt.figure()\n",
    "plt.subplot(2, 2, 1)\n",
    "plt.imshow(UN, extent=[X.min(), X.max(), Y.min(), Y.max()], cmap=cm.hsv)\n",
    "plt.colorbar()\n",
    "plt.title('Orientation map')\n",
    "\n",
    "plt.subplot(2, 2, 2)\n",
    "plt.quiver(X, Y, UN, VN, \n",
    "           color='Teal', \n",
    "           headlength=7)\n",
    "\n",
    "plt.title('Vector Field')\n",
    "plt.show()"
   ]
  },
  {
   "cell_type": "code",
   "execution_count": null,
   "metadata": {
    "collapsed": false
   },
   "outputs": [],
   "source": [
    "# plot the initial orientation map and the vector field on it\n",
    "\n",
    "skip = (slice(None, None, 2), slice(None, None, 2)) # to make the vector field less dense\n",
    "\n",
    "fig, ax = plt.subplots()\n",
    "plt.imshow(UN, extent=[X.min(), X.max(), Y.min(), Y.max()], cmap=cm.hsv)\n",
    "plt.colorbar()\n",
    "plt.quiver(X[skip], Y[skip], UN[skip], VN[skip])\n",
    "\n",
    "\n",
    "plt.title('Orientation map with the vector field')\n",
    "plt.show()"
   ]
  },
  {
   "cell_type": "code",
   "execution_count": null,
   "metadata": {
    "collapsed": false
   },
   "outputs": [],
   "source": [
    "# get rid of the background image and plot just the vector field but colored for better overview \n",
    "\n",
    "# rcParams['figure.figsize'] = 15, 10 # adjust the size of figures\n",
    "\n",
    "plt.clf()\n",
    "plt.figure()\n",
    "\n",
    "\n",
    "plt.subplot(2, 2, 1)\n",
    "plt.quiver(X[skip], Y[skip], UN[skip], VN[skip],    # data\n",
    "           pref_data,       # colour the arrows based on this array\n",
    "           cmap=cm.hsv)     # colour map\n",
    "\n",
    "\n",
    "plt.colorbar()                 # adds the colour bar\n",
    "\n",
    "plt.title('Vector field and colormap - orientation map')\n",
    "\n",
    "\n",
    "\n",
    "plt.subplot(2, 2, 2)\n",
    "plt.quiver(X[skip], Y[skip], UN[skip], VN[skip],    # data\n",
    "           sel_data,        # colour the arrows based on this array -> selectivity map\n",
    "           cmap=cm.hsv)     # colour map\n",
    "\n",
    "plt.colorbar()\n",
    "plt.title('Vector field - orientation map; Colormap - selectivity')\n",
    "\n",
    "\n",
    "plt.show()"
   ]
  },
  {
   "cell_type": "code",
   "execution_count": null,
   "metadata": {
    "collapsed": false
   },
   "outputs": [],
   "source": [
    "# play around with colours\n",
    "\n",
    "import matplotlib.colors as col\n",
    "import seaborn as sns\n",
    "import scipy\n",
    "\n",
    "rcParams['figure.figsize'] = 20, 13\n",
    "\n",
    "##### generate custom colormap\n",
    "def mkcmap(): \n",
    "    white = '#ffffff'\n",
    "    black = '#000000'\n",
    "    red = '#ff0000'\n",
    "    blue = '#0000ff'\n",
    "    green = '#00ff00'\n",
    "    \n",
    "    first = '#641E16'\n",
    "    second = '#A93226'\n",
    "    third = '#C70039'\n",
    "    fourth = '#FF5733'\n",
    "    last = '#FFC300'\n",
    "    anglemap = col.LinearSegmentedColormap.from_list(\n",
    "        'anglemap', [black, '#4d3900', '#997300',  '#e6ac00', '#ffcc33', '#ffdf80', white, '#ffdf80', '#ffcc33', '#e6ac00', '#997300', '#4d3900', black], N=256, gamma=1)\n",
    "    return anglemap\n",
    "\n",
    "anglemap = mkcmap()\n",
    "#huslmap = col.ListedColormap(sns.color_palette(\"husl\",256))\n",
    "\n",
    "##### generate data grid\n",
    "x = X\n",
    "y = Y\n",
    "z = pref_data\n",
    "\n",
    "##### plot with different colormaps\n",
    "plt.figure()\n",
    "plt.clf()\n",
    "\n",
    "plt.subplot(2,2,1)\n",
    "plt.pcolormesh(X, Y, pref_data, \n",
    "    cmap=anglemap,vmin=0, vmax=np.pi)\n",
    "plt.axis([X.min(), X.max(), Y.min(), Y.max()])\n",
    "plt.colorbar()\n",
    "#cbar.ax.set_ylabel('Phase [pi]')\n",
    "plt.title('Dominant (black/horizontal and white/vertical) vs non-dominant (yellow/diagonal) orientation')\n",
    "\n",
    "plt.subplot(2,2,2)\n",
    "plt.pcolormesh(X, Y, pref_data, \n",
    "    cmap=plt.get_cmap('Spectral'),vmin=0, vmax=np.pi)\n",
    "plt.axis([X.min(), X.max(), Y.min(), Y.max()])\n",
    "plt.title('Spectral colormap')\n",
    "plt.colorbar()\n",
    "\n",
    "plt.subplot(2,2,3)\n",
    "plt.pcolormesh(X, Y, pref_data, \n",
    "    cmap=plt.get_cmap('RdGy'),vmin=0, vmax=np.pi)\n",
    "plt.axis([X.min(), X.max(), Y.min(), Y.max()])\n",
    "plt.title('diverging colormap')\n",
    "plt.colorbar()\n",
    "\n",
    "plt.subplot(2,2,4)\n",
    "plt.pcolormesh(X, Y, pref_data, \n",
    "    cmap=plt.get_cmap('BrBG'),vmin=0, vmax=np.pi)\n",
    "plt.axis([X.min(), X.max(), Y.min(), Y.max()])\n",
    "plt.title('diverging colormap')\n",
    "plt.colorbar()\n",
    "\n",
    "plt.show()"
   ]
  },
  {
   "cell_type": "code",
   "execution_count": null,
   "metadata": {
    "collapsed": true
   },
   "outputs": [],
   "source": [
    "# function to define the gradient\n",
    "\n",
    "def map_gradient(data):\n",
    "    orient_map_gradient_X, orient_map_gradient_Y = np.gradient(data)\n",
    "    #plt.quiver(orient_map_gradient_X, orient_map_gradient_Y)\n",
    "    orient_map_gradient = np.zeros((orient_map_gradient_X.shape[0], orient_map_gradient_X.shape[0]))\n",
    "    for i in xrange(orient_map_gradient[0].shape[0]):\n",
    "        for j in xrange(orient_map_gradient[0].shape[0]):\n",
    "            orient_map_gradient[i, j] = np.sqrt(orient_map_gradient_X[i, j]**2 + orient_map_gradient_X[i, j]**2)\n",
    "    return orient_map_gradient\n",
    "\n",
    "orient_map_gradient = map_gradient(pref_data)\n",
    "sel_map_gradient = map_gradient(sel_data)"
   ]
  },
  {
   "cell_type": "code",
   "execution_count": null,
   "metadata": {
    "collapsed": false
   },
   "outputs": [],
   "source": [
    "plt.clf()\n",
    "plt.subplot(2, 2, 1)\n",
    "plt.imshow(pref_data, interpolation=\"none\", cmap=plt.get_cmap('RdGy'))\n",
    "plt.title(\"Orientation map\")\n",
    "plt.colorbar()\n",
    "plt.subplot(2, 2, 2)\n",
    "plt.imshow(sel_data, interpolation=\"none\", cmap=cm.jet)\n",
    "plt.title(\"Selectivity map\")\n",
    "plt.colorbar()\n",
    "\n",
    "plt.subplot(2, 2, 3)\n",
    "plt.imshow(orient_map_gradient, interpolation=\"none\")\n",
    "plt.title(\"Orientation map gradient\")\n",
    "plt.subplot(2, 2, 4)\n",
    "plt.imshow(sel_map_gradient, interpolation=\"none\")\n",
    "plt.title(\"Selectivity map gradient\")\n",
    "plt.show()\n"
   ]
  },
  {
   "cell_type": "code",
   "execution_count": null,
   "metadata": {
    "collapsed": true
   },
   "outputs": [],
   "source": [
    "import matplotlib.colors.g"
   ]
  },
  {
   "cell_type": "code",
   "execution_count": null,
   "metadata": {
    "collapsed": false
   },
   "outputs": [],
   "source": [
    "# more colours and contours\n",
    "\n",
    "#rcParams['figure.figsize'] = 20, 13\n",
    "\n",
    "#!/usr/bin/env python\n",
    "'''\n",
    "Test combinations of contouring, filled contouring, and image plotting.\n",
    "For contour labelling, see contour_demo.py.\n",
    "\n",
    "The emphasis in this demo is on showing how to make contours register\n",
    "correctly on images, and on how to get both of them oriented as\n",
    "desired.  In particular, note the usage of the \"origin\" and \"extent\"\n",
    "keyword arguments to imshow and contour.\n",
    "'''\n",
    "from matplotlib import mlab, cm\n",
    "\n",
    "# Default delta is large because that makes it fast, and it illustrates\n",
    "# the correct registration between image and contours.\n",
    "delta = 0.3\n",
    "extent = (0, 47, 0, 47)\n",
    "\n",
    "x = UN \n",
    "y = VN \n",
    "Z = UN\n",
    "\n",
    "\n",
    "levels = np.arange(-2.0, 1.601, 0.4)  # Boost the upper limit to avoid truncation errors.\n",
    "\n",
    "norm = cm.colors.Normalize(vmax=abs(Z).max(), vmin=-abs(Z).max())\n",
    "cmap = cm.jet\n",
    "\n",
    "plt.figure()\n",
    "\n",
    "\n",
    "plt.subplot(2, 2, 1)\n",
    "\n",
    "cset1 = plt.contourf(X, Y, Z, levels,\n",
    "                 cmap=cm.get_cmap(cmap, len(levels) - 1),\n",
    "                 norm=norm,\n",
    "                 )\n",
    "# It is not necessary, but for the colormap, we need only the\n",
    "# number of levels minus 1.  To avoid discretization error, use\n",
    "# either this number or a large number such as the default (256).\n",
    "\n",
    "# If we want lines as well as filled regions, we need to call\n",
    "# contour separately; don't try to change the edgecolor or edgewidth\n",
    "# of the polygons in the collections returned by contourf.\n",
    "# Use levels output from previous call to guarantee they are the same.\n",
    "cset2 = plt.contour(X, Y, Z, cset1.levels,\n",
    "                colors='k',\n",
    "                hold='on')\n",
    "# We don't really need dashed contour lines to indicate negative\n",
    "# regions, so let's turn them off.\n",
    "for c in cset2.collections:\n",
    "    c.set_linestyle('solid')\n",
    "\n",
    "# It is easier here to make a separate call to contour than\n",
    "# to set up an array of colors and linewidths.\n",
    "# We are making a thick green line as a zero contour.\n",
    "# Specify the zero level as a tuple with only 0 in it.\n",
    "cset3 = plt.contour(X, Y, Z, (0,),\n",
    "                colors='g',\n",
    "                linewidths=2,\n",
    "                hold='on')\n",
    "plt.title('Filled contours')\n",
    "plt.colorbar(cset1)\n",
    "\n",
    "\n",
    "\n",
    "plt.show()"
   ]
  },
  {
   "cell_type": "code",
   "execution_count": null,
   "metadata": {
    "collapsed": false
   },
   "outputs": [],
   "source": [
    "# more contours\n",
    "\n",
    "fig = plt.figure(1)\n",
    "plt.clf()\n",
    "\n",
    "plt.subplot(2,2,1)\n",
    "\n",
    "# set desired contour levels.\n",
    "clevs = np.arange(960,1061,5)\n",
    "\n",
    "# plot SLP contours.\n",
    "CS1 = plt.contour(X,Y, UN, clevs,linewidths=0.5,colors='k', hold='on')\n",
    "CS2 = plt.contourf(X,Y,UN, clevs,cmap=plt.cm.RdBu_r, hold='on')\n",
    "\n",
    "\n",
    "# now plot.\n",
    "c = plt.pcolor(X,Y,UN)\n",
    "d = plt.colorbar(c)\n",
    "q = plt.hsv()       # colormap\n",
    "e = plt.contour(X,Y,UN,colors='k')\n",
    "\n",
    "\n",
    "plt.show()\n"
   ]
  },
  {
   "cell_type": "code",
   "execution_count": null,
   "metadata": {
    "collapsed": false
   },
   "outputs": [],
   "source": [
    "# histogramms\n",
    "\n",
    "import matplotlib.cm\n",
    "\n",
    "# orientation\n",
    "n_bins = 10\n",
    "\n",
    "fig = plt.figure()\n",
    "ax = fig.add_axes([0.1,0.1, 0.8,0.8], polar=True)\n",
    "#color_vector = [matplotlib.cm.jet(val) for val in np.linspace(0., 1., n_bins/2)] + [matplotlib.cm.jet(val) for val in np.linspace(0., 1., n_bins/2)]\n",
    "\n",
    "n, bins = np.histogram(pref_data.flatten(), bins=10)\n",
    "#n_bins = bins.shape[0] - 1\n",
    "pretend_bins = np.linspace(0., 2*np.pi, n_bins)\n",
    "ax.bar(bins[:n_bins], n, (bins[1] - bins[0]))\n",
    "plt.title('Orientation preference histogram')\n",
    "# I really like this histogram! need to find a way toplot only half of the circle \n",
    "# and colour the bars according to the selectivity \n",
    "plt.show()\n",
    "\n",
    "\n",
    "#selectivity\n",
    "fig.add_subplot()\n",
    "plt.hist(sel_data.flatten(), bins=25)\n",
    "plt.title('Selectivity histogram')\n",
    "plt.show()\n",
    "\n"
   ]
  },
  {
   "cell_type": "code",
   "execution_count": null,
   "metadata": {
    "collapsed": false
   },
   "outputs": [],
   "source": [
    "# orientation and selectivity combined histogram\n",
    "\n",
    "rcParams['figure.figsize'] = 35, 13\n",
    "\n",
    "extent = (0, 47, 0, 47)\n",
    "ax = plt.subplot(1,2,1)\n",
    "ax1 = plt.plot(pref_data.flatten(), sel_data.flatten()*40, 'r.', label='Selectivity')\n",
    "ax.set_xlim(0, 3.15)\n",
    "plt.title(\"Selectivity and Orientation preference\")\n",
    "plt.xlabel(\"Orientation\")\n",
    "\n",
    "\n",
    "#plt.subplot(1,2,2)\n",
    "plt.hist(pref_data.flatten(), label='Orientation', bins = 35)\n",
    "\n",
    "y_mean = [np.mean(sel_data.flatten())*60 for i in pref_data.flatten()]\n",
    "plt.plot(pref_data.flatten(),y_mean, label='Mean Selectivity', linestyle='--')\n",
    "plt.legend()\n",
    "plt.show()\n"
   ]
  },
  {
   "cell_type": "code",
   "execution_count": null,
   "metadata": {
    "collapsed": false
   },
   "outputs": [],
   "source": [
    "# Fourier power spectrum = I have no idea what those colours mean\n",
    "\n",
    "rcParams['figure.figsize'] = 12, 8\n",
    "\n",
    "ax = plt.subplot()\n",
    "sp = np.fft.fft2(UN)\n",
    "#plt.plot(sp)\n",
    "plt.plot(sp)\n",
    "ax.set_xlim(0,46)\n",
    "plt.title ('The Fourier power spectrum')\n",
    "\n",
    "plt.show()\n",
    "\n",
    "#As another example, an interesting property of orientation maps measured in animals is that their Fourier power \n",
    "#spectrums usually show a ring shape, because the orientations repeat at a constant spatial frequency in all \n",
    "#directions."
   ]
  },
  {
   "cell_type": "code",
   "execution_count": null,
   "metadata": {
    "collapsed": false
   },
   "outputs": [],
   "source": [
    "import sys\n",
    "import os\n",
    "import platform\n",
    "\n",
    "# Mindboogle\n",
    "\n",
    "mindbog=os.path.join('/Users/ghfc/Documents/Dropbox/hugo_is_dead/scripts/mindboggle-master/')\n",
    "sys.path.append(mindbog)\n",
    "sys.path.append(os.path.join(mindbog,'mindboggle/shapes'))\n",
    "\n"
   ]
  },
  {
   "cell_type": "code",
   "execution_count": null,
   "metadata": {
    "collapsed": false
   },
   "outputs": [],
   "source": [
    "import laplace_beltrami as LB\n",
    "import numpy\n",
    "import scipy\n",
    "import time"
   ]
  },
  {
   "cell_type": "code",
   "execution_count": null,
   "metadata": {
    "collapsed": false
   },
   "outputs": [],
   "source": [
    "\n",
    "A,B=LB.computeAB(sel_data.flatten(), pref_data.flatten())\n",
    "#A and B will be used to compute laplace beltrami eigenfunstions or fourier modes"
   ]
  },
  {
   "cell_type": "code",
   "execution_count": null,
   "metadata": {
    "collapsed": true
   },
   "outputs": [],
   "source": []
  }
 ],
 "metadata": {
  "kernelspec": {
   "display_name": "Python 2",
   "language": "python",
   "name": "python2"
  },
  "language_info": {
   "codemirror_mode": {
    "name": "ipython",
    "version": 2
   },
   "file_extension": ".py",
   "mimetype": "text/x-python",
   "name": "python",
   "nbconvert_exporter": "python",
   "pygments_lexer": "ipython2",
   "version": "2.7.11"
  },
  "widgets": {
   "state": {},
   "version": "1.1.2"
  }
 },
 "nbformat": 4,
 "nbformat_minor": 0
}
